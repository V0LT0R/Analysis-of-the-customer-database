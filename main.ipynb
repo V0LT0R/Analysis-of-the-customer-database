{
 "cells": [
  {
   "cell_type": "markdown",
   "metadata": {},
   "source": [
    "## Description ##\n",
    "\n",
    "We will use a food delivery dataset in New York and try develop a model that allow us to do two things:\n"
   ]
  },
  {
   "cell_type": "code",
   "execution_count": 1,
   "metadata": {},
   "outputs": [],
   "source": [
    "import pandas as pd\n",
    "import numpy as np\n",
    "import matplotlib as mpl\n",
    "import matplotlib.pyplot as plt\n",
    "import seaborn as sns\n",
    "import datetime, nltk, warnings\n",
    "import itertools\n"
   ]
  },
  {
   "cell_type": "markdown",
   "metadata": {},
   "source": [
    "## **  Data Preparation **"
   ]
  },
  {
   "cell_type": "code",
   "execution_count": 2,
   "metadata": {},
   "outputs": [
    {
     "name": "stdout",
     "output_type": "stream",
     "text": [
      "Dataframe dimensions: (5464, 9)\n"
     ]
    }
   ],
   "source": [
    "# read the datafile\n",
    "df = pd.read_csv(\"./input_data/dataset.csv\", encoding=\"UTF-8\")\n",
    "df_initial = df.copy()\n",
    "print('Dataframe dimensions:', df_initial.shape)"
   ]
  },
  {
   "cell_type": "code",
   "execution_count": 4,
   "metadata": {},
   "outputs": [
    {
     "data": {
      "text/html": [
       "<div>\n",
       "<style scoped>\n",
       "    .dataframe tbody tr th:only-of-type {\n",
       "        vertical-align: middle;\n",
       "    }\n",
       "\n",
       "    .dataframe tbody tr th {\n",
       "        vertical-align: top;\n",
       "    }\n",
       "\n",
       "    .dataframe thead th {\n",
       "        text-align: right;\n",
       "    }\n",
       "</style>\n",
       "<table border=\"1\" class=\"dataframe\">\n",
       "  <thead>\n",
       "    <tr style=\"text-align: right;\">\n",
       "      <th></th>\n",
       "      <th>ID_Client</th>\n",
       "      <th>Имя</th>\n",
       "      <th>Фамилия</th>\n",
       "      <th>Email</th>\n",
       "      <th>Телефон</th>\n",
       "      <th>Дата</th>\n",
       "      <th>Услуги</th>\n",
       "      <th>Цена</th>\n",
       "      <th>Комментарии</th>\n",
       "    </tr>\n",
       "  </thead>\n",
       "  <tbody>\n",
       "    <tr>\n",
       "      <th>0</th>\n",
       "      <td>10000</td>\n",
       "      <td>Илья</td>\n",
       "      <td>Григорьев</td>\n",
       "      <td>bragintit@gmail.com</td>\n",
       "      <td>+7 705 515-6238</td>\n",
       "      <td>2021-08-25</td>\n",
       "      <td>Ремонт_электрических_систем</td>\n",
       "      <td>5500</td>\n",
       "      <td>NaN</td>\n",
       "    </tr>\n",
       "    <tr>\n",
       "      <th>1</th>\n",
       "      <td>10001</td>\n",
       "      <td>Антон</td>\n",
       "      <td>Марков</td>\n",
       "      <td>vitali1971@gmail.com</td>\n",
       "      <td>+7 776 403-7493</td>\n",
       "      <td>2021-02-12</td>\n",
       "      <td>Замена_масла_и_фильтров Техническое_обслуживание</td>\n",
       "      <td>8500</td>\n",
       "      <td>Очень оперативно решили проблему, завели AUDI ...</td>\n",
       "    </tr>\n",
       "    <tr>\n",
       "      <th>2</th>\n",
       "      <td>10002</td>\n",
       "      <td>Никита</td>\n",
       "      <td>Кудрявцев</td>\n",
       "      <td>pahomovspartak@gmail.com</td>\n",
       "      <td>+7 771 020-6852</td>\n",
       "      <td>2021-11-09</td>\n",
       "      <td>Обслуживание_тормозной_системы</td>\n",
       "      <td>9000</td>\n",
       "      <td>NaN</td>\n",
       "    </tr>\n",
       "    <tr>\n",
       "      <th>3</th>\n",
       "      <td>10003</td>\n",
       "      <td>Ержан</td>\n",
       "      <td>Казаков</td>\n",
       "      <td>filaretshilov@gmail.com</td>\n",
       "      <td>+7 700 808-3592</td>\n",
       "      <td>2021-06-26</td>\n",
       "      <td>Техническое_обслуживание Шиномонтажные_услуги</td>\n",
       "      <td>5500</td>\n",
       "      <td>NaN</td>\n",
       "    </tr>\n",
       "    <tr>\n",
       "      <th>4</th>\n",
       "      <td>10004</td>\n",
       "      <td>Рауан</td>\n",
       "      <td>Кабанов</td>\n",
       "      <td>ufrolova@gmail.com</td>\n",
       "      <td>+7 778 995-2837</td>\n",
       "      <td>2021-10-12</td>\n",
       "      <td>Замена_масла_и_фильтров Диагностика_двигателя ...</td>\n",
       "      <td>23500</td>\n",
       "      <td>NaN</td>\n",
       "    </tr>\n",
       "  </tbody>\n",
       "</table>\n",
       "</div>"
      ],
      "text/plain": [
       "   ID_Client     Имя    Фамилия                     Email          Телефон  \\\n",
       "0      10000    Илья  Григорьев       bragintit@gmail.com  +7 705 515-6238   \n",
       "1      10001   Антон     Марков      vitali1971@gmail.com  +7 776 403-7493   \n",
       "2      10002  Никита  Кудрявцев  pahomovspartak@gmail.com  +7 771 020-6852   \n",
       "3      10003   Ержан    Казаков   filaretshilov@gmail.com  +7 700 808-3592   \n",
       "4      10004   Рауан    Кабанов        ufrolova@gmail.com  +7 778 995-2837   \n",
       "\n",
       "         Дата                                             Услуги   Цена  \\\n",
       "0  2021-08-25                        Ремонт_электрических_систем   5500   \n",
       "1  2021-02-12   Замена_масла_и_фильтров Техническое_обслуживание   8500   \n",
       "2  2021-11-09                     Обслуживание_тормозной_системы   9000   \n",
       "3  2021-06-26      Техническое_обслуживание Шиномонтажные_услуги   5500   \n",
       "4  2021-10-12  Замена_масла_и_фильтров Диагностика_двигателя ...  23500   \n",
       "\n",
       "                                         Комментарии  \n",
       "0                                                NaN  \n",
       "1  Очень оперативно решили проблему, завели AUDI ...  \n",
       "2                                                NaN  \n",
       "3                                                NaN  \n",
       "4                                                NaN  "
      ]
     },
     "metadata": {},
     "output_type": "display_data"
    }
   ],
   "source": [
    "# show first lines\n",
    "display(df_initial.head())"
   ]
  },
  {
   "cell_type": "code",
   "execution_count": 5,
   "metadata": {},
   "outputs": [
    {
     "data": {
      "text/html": [
       "<div>\n",
       "<style scoped>\n",
       "    .dataframe tbody tr th:only-of-type {\n",
       "        vertical-align: middle;\n",
       "    }\n",
       "\n",
       "    .dataframe tbody tr th {\n",
       "        vertical-align: top;\n",
       "    }\n",
       "\n",
       "    .dataframe thead th {\n",
       "        text-align: right;\n",
       "    }\n",
       "</style>\n",
       "<table border=\"1\" class=\"dataframe\">\n",
       "  <thead>\n",
       "    <tr style=\"text-align: right;\">\n",
       "      <th></th>\n",
       "      <th>ID_Client</th>\n",
       "      <th>Имя</th>\n",
       "      <th>Фамилия</th>\n",
       "      <th>Email</th>\n",
       "      <th>Телефон</th>\n",
       "      <th>Дата</th>\n",
       "      <th>Услуги</th>\n",
       "      <th>Цена</th>\n",
       "      <th>Комментарии</th>\n",
       "    </tr>\n",
       "  </thead>\n",
       "  <tbody>\n",
       "    <tr>\n",
       "      <th>5459</th>\n",
       "      <td>12503</td>\n",
       "      <td>Айдар</td>\n",
       "      <td>Тихонов</td>\n",
       "      <td>varfolome36@gmail.com</td>\n",
       "      <td>+7 777 470-3952</td>\n",
       "      <td>2023-08-03</td>\n",
       "      <td>Ремонт_электрических_систем Техническое_обслуж...</td>\n",
       "      <td>12500</td>\n",
       "      <td>NaN</td>\n",
       "    </tr>\n",
       "    <tr>\n",
       "      <th>5460</th>\n",
       "      <td>12572</td>\n",
       "      <td>Жандос</td>\n",
       "      <td>Калашников</td>\n",
       "      <td>aksenovgleb@gmail.com</td>\n",
       "      <td>+7 778 326-3875</td>\n",
       "      <td>2023-11-23</td>\n",
       "      <td>Замена_масла_и_фильтров Кузовной_ремонт_и_покр...</td>\n",
       "      <td>32000</td>\n",
       "      <td>NaN</td>\n",
       "    </tr>\n",
       "    <tr>\n",
       "      <th>5461</th>\n",
       "      <td>10740</td>\n",
       "      <td>Артем</td>\n",
       "      <td>Михайлов</td>\n",
       "      <td>kulaginatatjana@gmail.com</td>\n",
       "      <td>+7 778 930-9824</td>\n",
       "      <td>2021-02-22</td>\n",
       "      <td>Шиномонтажные_услуги Техническое_обслуживание ...</td>\n",
       "      <td>12500</td>\n",
       "      <td>NaN</td>\n",
       "    </tr>\n",
       "    <tr>\n",
       "      <th>5462</th>\n",
       "      <td>14022</td>\n",
       "      <td>Владислав</td>\n",
       "      <td>Орехов</td>\n",
       "      <td>anatolinikolaev@gmail.com</td>\n",
       "      <td>+7 776 421-9650</td>\n",
       "      <td>2023-08-27</td>\n",
       "      <td>Замена_масла_и_фильтров</td>\n",
       "      <td>7000</td>\n",
       "      <td>NaN</td>\n",
       "    </tr>\n",
       "    <tr>\n",
       "      <th>5463</th>\n",
       "      <td>11477</td>\n",
       "      <td>Асылхан</td>\n",
       "      <td>Новиков</td>\n",
       "      <td>prokofi00@gmail.com</td>\n",
       "      <td>+7 700 681-1330</td>\n",
       "      <td>2022-04-02</td>\n",
       "      <td>Техническое_обслуживание Шиномонтажные_услуги</td>\n",
       "      <td>7500</td>\n",
       "      <td>NaN</td>\n",
       "    </tr>\n",
       "  </tbody>\n",
       "</table>\n",
       "</div>"
      ],
      "text/plain": [
       "      ID_Client        Имя     Фамилия                      Email  \\\n",
       "5459      12503      Айдар     Тихонов      varfolome36@gmail.com   \n",
       "5460      12572     Жандос  Калашников      aksenovgleb@gmail.com   \n",
       "5461      10740      Артем    Михайлов  kulaginatatjana@gmail.com   \n",
       "5462      14022  Владислав      Орехов  anatolinikolaev@gmail.com   \n",
       "5463      11477    Асылхан     Новиков        prokofi00@gmail.com   \n",
       "\n",
       "              Телефон        Дата  \\\n",
       "5459  +7 777 470-3952  2023-08-03   \n",
       "5460  +7 778 326-3875  2023-11-23   \n",
       "5461  +7 778 930-9824  2021-02-22   \n",
       "5462  +7 776 421-9650  2023-08-27   \n",
       "5463  +7 700 681-1330  2022-04-02   \n",
       "\n",
       "                                                 Услуги   Цена Комментарии  \n",
       "5459  Ремонт_электрических_систем Техническое_обслуж...  12500         NaN  \n",
       "5460  Замена_масла_и_фильтров Кузовной_ремонт_и_покр...  32000         NaN  \n",
       "5461  Шиномонтажные_услуги Техническое_обслуживание ...  12500         NaN  \n",
       "5462                            Замена_масла_и_фильтров   7000         NaN  \n",
       "5463      Техническое_обслуживание Шиномонтажные_услуги   7500         NaN  "
      ]
     },
     "metadata": {},
     "output_type": "display_data"
    }
   ],
   "source": [
    "# show last lines\n",
    "display(df_initial.tail())"
   ]
  },
  {
   "cell_type": "markdown",
   "metadata": {},
   "source": [
    "## Here the explanation about the variables:\n",
    "\n",
    "* -...-\n"
   ]
  },
  {
   "cell_type": "code",
   "execution_count": 6,
   "metadata": {},
   "outputs": [
    {
     "name": "stdout",
     "output_type": "stream",
     "text": [
      "<class 'pandas.core.frame.DataFrame'>\n",
      "RangeIndex: 5464 entries, 0 to 5463\n",
      "Data columns (total 9 columns):\n",
      " #   Column       Non-Null Count  Dtype \n",
      "---  ------       --------------  ----- \n",
      " 0   ID_Client    5464 non-null   int64 \n",
      " 1   Имя          5464 non-null   object\n",
      " 2   Фамилия      5464 non-null   object\n",
      " 3   Email        5464 non-null   object\n",
      " 4   Телефон      5464 non-null   object\n",
      " 5   Дата         5464 non-null   object\n",
      " 6   Услуги       5464 non-null   object\n",
      " 7   Цена         5464 non-null   int64 \n",
      " 8   Комментарии  732 non-null    object\n",
      "dtypes: int64(2), object(7)\n",
      "memory usage: 384.3+ KB\n"
     ]
    }
   ],
   "source": [
    "# summary of the dataframe\n",
    "df_initial.info()"
   ]
  },
  {
   "cell_type": "code",
   "execution_count": 7,
   "metadata": {},
   "outputs": [
    {
     "data": {
      "text/html": [
       "<div>\n",
       "<style scoped>\n",
       "    .dataframe tbody tr th:only-of-type {\n",
       "        vertical-align: middle;\n",
       "    }\n",
       "\n",
       "    .dataframe tbody tr th {\n",
       "        vertical-align: top;\n",
       "    }\n",
       "\n",
       "    .dataframe thead th {\n",
       "        text-align: right;\n",
       "    }\n",
       "</style>\n",
       "<table border=\"1\" class=\"dataframe\">\n",
       "  <thead>\n",
       "    <tr style=\"text-align: right;\">\n",
       "      <th></th>\n",
       "      <th>ID_Client</th>\n",
       "      <th>Цена</th>\n",
       "    </tr>\n",
       "  </thead>\n",
       "  <tbody>\n",
       "    <tr>\n",
       "      <th>count</th>\n",
       "      <td>5464.000000</td>\n",
       "      <td>5464.000000</td>\n",
       "    </tr>\n",
       "    <tr>\n",
       "      <th>mean</th>\n",
       "      <td>12125.453331</td>\n",
       "      <td>11772.877013</td>\n",
       "    </tr>\n",
       "    <tr>\n",
       "      <th>std</th>\n",
       "      <td>1220.874196</td>\n",
       "      <td>9340.559104</td>\n",
       "    </tr>\n",
       "    <tr>\n",
       "      <th>min</th>\n",
       "      <td>10000.000000</td>\n",
       "      <td>2500.000000</td>\n",
       "    </tr>\n",
       "    <tr>\n",
       "      <th>25%</th>\n",
       "      <td>11072.750000</td>\n",
       "      <td>5000.000000</td>\n",
       "    </tr>\n",
       "    <tr>\n",
       "      <th>50%</th>\n",
       "      <td>12127.000000</td>\n",
       "      <td>7500.000000</td>\n",
       "    </tr>\n",
       "    <tr>\n",
       "      <th>75%</th>\n",
       "      <td>13180.000000</td>\n",
       "      <td>16500.000000</td>\n",
       "    </tr>\n",
       "    <tr>\n",
       "      <th>max</th>\n",
       "      <td>14498.000000</td>\n",
       "      <td>42500.000000</td>\n",
       "    </tr>\n",
       "  </tbody>\n",
       "</table>\n",
       "</div>"
      ],
      "text/plain": [
       "          ID_Client          Цена\n",
       "count   5464.000000   5464.000000\n",
       "mean   12125.453331  11772.877013\n",
       "std     1220.874196   9340.559104\n",
       "min    10000.000000   2500.000000\n",
       "25%    11072.750000   5000.000000\n",
       "50%    12127.000000   7500.000000\n",
       "75%    13180.000000  16500.000000\n",
       "max    14498.000000  42500.000000"
      ]
     },
     "execution_count": 7,
     "metadata": {},
     "output_type": "execute_result"
    }
   ],
   "source": [
    "df_initial.describe()"
   ]
  },
  {
   "cell_type": "markdown",
   "metadata": {},
   "source": [
    "## **  Exploratory Data Analysis **"
   ]
  },
  {
   "cell_type": "markdown",
   "metadata": {},
   "source": [
    "### Identify null values"
   ]
  },
  {
   "cell_type": "code",
   "execution_count": 8,
   "metadata": {},
   "outputs": [
    {
     "name": "stdout",
     "output_type": "stream",
     "text": [
      "---------- Display information about column types and number of null values ----------\n"
     ]
    },
    {
     "data": {
      "text/html": [
       "<div>\n",
       "<style scoped>\n",
       "    .dataframe tbody tr th:only-of-type {\n",
       "        vertical-align: middle;\n",
       "    }\n",
       "\n",
       "    .dataframe tbody tr th {\n",
       "        vertical-align: top;\n",
       "    }\n",
       "\n",
       "    .dataframe thead th {\n",
       "        text-align: right;\n",
       "    }\n",
       "</style>\n",
       "<table border=\"1\" class=\"dataframe\">\n",
       "  <thead>\n",
       "    <tr style=\"text-align: right;\">\n",
       "      <th></th>\n",
       "      <th>column type</th>\n",
       "      <th>null values (nb)</th>\n",
       "      <th>null values (%)</th>\n",
       "    </tr>\n",
       "  </thead>\n",
       "  <tbody>\n",
       "    <tr>\n",
       "      <th>ID_Client</th>\n",
       "      <td>int64</td>\n",
       "      <td>0</td>\n",
       "      <td>0.000000</td>\n",
       "    </tr>\n",
       "    <tr>\n",
       "      <th>Имя</th>\n",
       "      <td>object</td>\n",
       "      <td>0</td>\n",
       "      <td>0.000000</td>\n",
       "    </tr>\n",
       "    <tr>\n",
       "      <th>Фамилия</th>\n",
       "      <td>object</td>\n",
       "      <td>0</td>\n",
       "      <td>0.000000</td>\n",
       "    </tr>\n",
       "    <tr>\n",
       "      <th>Email</th>\n",
       "      <td>object</td>\n",
       "      <td>0</td>\n",
       "      <td>0.000000</td>\n",
       "    </tr>\n",
       "    <tr>\n",
       "      <th>Телефон</th>\n",
       "      <td>object</td>\n",
       "      <td>0</td>\n",
       "      <td>0.000000</td>\n",
       "    </tr>\n",
       "    <tr>\n",
       "      <th>Дата</th>\n",
       "      <td>object</td>\n",
       "      <td>0</td>\n",
       "      <td>0.000000</td>\n",
       "    </tr>\n",
       "    <tr>\n",
       "      <th>Услуги</th>\n",
       "      <td>object</td>\n",
       "      <td>0</td>\n",
       "      <td>0.000000</td>\n",
       "    </tr>\n",
       "    <tr>\n",
       "      <th>Цена</th>\n",
       "      <td>int64</td>\n",
       "      <td>0</td>\n",
       "      <td>0.000000</td>\n",
       "    </tr>\n",
       "    <tr>\n",
       "      <th>Комментарии</th>\n",
       "      <td>object</td>\n",
       "      <td>4732</td>\n",
       "      <td>86.603221</td>\n",
       "    </tr>\n",
       "  </tbody>\n",
       "</table>\n",
       "</div>"
      ],
      "text/plain": [
       "            column type  null values (nb)  null values (%)\n",
       "ID_Client         int64                 0         0.000000\n",
       "Имя              object                 0         0.000000\n",
       "Фамилия          object                 0         0.000000\n",
       "Email            object                 0         0.000000\n",
       "Телефон          object                 0         0.000000\n",
       "Дата             object                 0         0.000000\n",
       "Услуги           object                 0         0.000000\n",
       "Цена              int64                 0         0.000000\n",
       "Комментарии      object              4732        86.603221"
      ]
     },
     "metadata": {},
     "output_type": "display_data"
    }
   ],
   "source": [
    "tab_info = pd.DataFrame({\n",
    "    'column type': df_initial.dtypes,\n",
    "    'null values (nb)': df_initial.isnull().sum(),\n",
    "    'null values (%)': df_initial.isnull().sum() / df_initial.shape[0] * 100\n",
    "})\n",
    "\n",
    "print('-' * 10 + \" Display information about column types and number of null values \" + '-' * 10)\n",
    "display(tab_info)"
   ]
  },
  {
   "cell_type": "markdown",
   "metadata": {},
   "source": [
    "### Remove data entries "
   ]
  },
  {
   "cell_type": "code",
   "execution_count": 9,
   "metadata": {},
   "outputs": [
    {
     "name": "stdout",
     "output_type": "stream",
     "text": [
      "Duplicate data entries: 66\n"
     ]
    }
   ],
   "source": [
    "print('Duplicate data entries: {}'.format(df_initial.duplicated().sum()))\n",
    "df_initial.drop_duplicates(inplace = True)"
   ]
  },
  {
   "cell_type": "code",
   "execution_count": 11,
   "metadata": {},
   "outputs": [
    {
     "name": "stdout",
     "output_type": "stream",
     "text": [
      "Duplicate data entries: 1165\n"
     ]
    }
   ],
   "source": [
    "print('Duplicate data entries: {}'.format(df_initial[\"ID_Client\"].duplicated().sum()))"
   ]
  },
  {
   "cell_type": "markdown",
   "metadata": {},
   "source": [
    "### Exploring data attributes\n",
    "---"
   ]
  },
  {
   "cell_type": "markdown",
   "metadata": {},
   "source": [
    "#### ** Exploring the data attribute : cuisine type **"
   ]
  },
  {
   "cell_type": "code",
   "execution_count": 11,
   "metadata": {},
   "outputs": [
    {
     "name": "stdout",
     "output_type": "stream",
     "text": [
      "No. of cuntries in dataframe: 14\n"
     ]
    }
   ],
   "source": [
    "temp = df_initial[['customer_id', 'order_id', 'cuisine_type']].groupby(\n",
    "    ['customer_id', 'order_id', 'cuisine_type']).count()\n",
    "temp = temp.reset_index(drop = False)\n",
    "countries = temp['cuisine_type'].value_counts()\n",
    "print('No. of cuntries in dataframe: {}'.format(len(countries)))"
   ]
  },
  {
   "cell_type": "code",
   "execution_count": 23,
   "metadata": {},
   "outputs": [
    {
     "name": "stdout",
     "output_type": "stream",
     "text": [
      "---------- Cuisine type number calculation ----------\n"
     ]
    },
    {
     "data": {
      "text/html": [
       "<div>\n",
       "<style scoped>\n",
       "    .dataframe tbody tr th:only-of-type {\n",
       "        vertical-align: middle;\n",
       "    }\n",
       "\n",
       "    .dataframe tbody tr th {\n",
       "        vertical-align: top;\n",
       "    }\n",
       "\n",
       "    .dataframe thead th {\n",
       "        text-align: right;\n",
       "    }\n",
       "</style>\n",
       "<table border=\"1\" class=\"dataframe\">\n",
       "  <thead>\n",
       "    <tr style=\"text-align: right;\">\n",
       "      <th></th>\n",
       "      <th>Cuisine type</th>\n",
       "      <th>Number of orders</th>\n",
       "    </tr>\n",
       "  </thead>\n",
       "  <tbody>\n",
       "    <tr>\n",
       "      <th>0</th>\n",
       "      <td>American</td>\n",
       "      <td>584</td>\n",
       "    </tr>\n",
       "    <tr>\n",
       "      <th>1</th>\n",
       "      <td>Japanese</td>\n",
       "      <td>470</td>\n",
       "    </tr>\n",
       "    <tr>\n",
       "      <th>2</th>\n",
       "      <td>Italian</td>\n",
       "      <td>298</td>\n",
       "    </tr>\n",
       "    <tr>\n",
       "      <th>3</th>\n",
       "      <td>Chinese</td>\n",
       "      <td>215</td>\n",
       "    </tr>\n",
       "    <tr>\n",
       "      <th>4</th>\n",
       "      <td>Mexican</td>\n",
       "      <td>77</td>\n",
       "    </tr>\n",
       "    <tr>\n",
       "      <th>5</th>\n",
       "      <td>Indian</td>\n",
       "      <td>73</td>\n",
       "    </tr>\n",
       "    <tr>\n",
       "      <th>6</th>\n",
       "      <td>Middle Eastern</td>\n",
       "      <td>49</td>\n",
       "    </tr>\n",
       "    <tr>\n",
       "      <th>7</th>\n",
       "      <td>Mediterranean</td>\n",
       "      <td>46</td>\n",
       "    </tr>\n",
       "    <tr>\n",
       "      <th>8</th>\n",
       "      <td>Thai</td>\n",
       "      <td>19</td>\n",
       "    </tr>\n",
       "    <tr>\n",
       "      <th>9</th>\n",
       "      <td>French</td>\n",
       "      <td>18</td>\n",
       "    </tr>\n",
       "    <tr>\n",
       "      <th>10</th>\n",
       "      <td>Southern</td>\n",
       "      <td>17</td>\n",
       "    </tr>\n",
       "    <tr>\n",
       "      <th>11</th>\n",
       "      <td>Korean</td>\n",
       "      <td>13</td>\n",
       "    </tr>\n",
       "    <tr>\n",
       "      <th>12</th>\n",
       "      <td>Spanish</td>\n",
       "      <td>12</td>\n",
       "    </tr>\n",
       "    <tr>\n",
       "      <th>13</th>\n",
       "      <td>Vietnamese</td>\n",
       "      <td>7</td>\n",
       "    </tr>\n",
       "  </tbody>\n",
       "</table>\n",
       "</div>"
      ],
      "text/plain": [
       "      Cuisine type  Number of orders\n",
       "0         American               584\n",
       "1         Japanese               470\n",
       "2          Italian               298\n",
       "3          Chinese               215\n",
       "4          Mexican                77\n",
       "5           Indian                73\n",
       "6   Middle Eastern                49\n",
       "7    Mediterranean                46\n",
       "8             Thai                19\n",
       "9           French                18\n",
       "10        Southern                17\n",
       "11          Korean                13\n",
       "12         Spanish                12\n",
       "13      Vietnamese                 7"
      ]
     },
     "metadata": {},
     "output_type": "display_data"
    }
   ],
   "source": [
    "temp_no_of_order_per_count = df_initial[['order_id','cuisine_type']].groupby(['cuisine_type']).count()\n",
    "temp_no_of_order_per_count = temp_no_of_order_per_count.reset_index(drop = False)\n",
    "\n",
    "print('-' * 10 + \" Cuisine type number calculation \"+ '-' * 10)\n",
    "print\n",
    "display (temp_no_of_order_per_count.sort_values(\n",
    "    by='order_id', ascending=False).rename(index=str,\n",
    "                                        columns={\"order_id\": \"Number of orders\", \"cuisine_type\": \"Cuisine type\"}).reset_index(drop=True))"
   ]
  },
  {
   "cell_type": "markdown",
   "metadata": {},
   "source": [
    "* Visualisation of how many orders was made in the dataframe"
   ]
  },
  {
   "cell_type": "code",
   "execution_count": 16,
   "metadata": {},
   "outputs": [
    {
     "data": {
      "image/png": "[encoded data removed]",
      "text/plain": [
       "<Figure size 640x480 with 1 Axes>"
      ]
     },
     "metadata": {},
     "output_type": "display_data"
    }
   ],
   "source": [
    "df_initial.cuisine_type.value_counts()\n",
    "chart = df_initial.cuisine_type.value_counts().plot(kind = 'bar')\n",
    "plt.title(\"how many orders were made\")\n",
    "plt.xticks(rotation = 60)\n",
    "plt.show()"
   ]
  },
  {
   "cell_type": "code",
   "execution_count": 20,
   "metadata": {},
   "outputs": [
    {
     "data": {
      "text/plain": [
       "cuisine_type\n",
       "American          30.769231\n",
       "Japanese          24.762908\n",
       "Italian           15.700738\n",
       "Chinese           11.327713\n",
       "Mexican            4.056902\n",
       "Indian             3.846154\n",
       "Middle Eastern     2.581665\n",
       "Mediterranean      2.423604\n",
       "Thai               1.001054\n",
       "French             0.948367\n",
       "Southern           0.895680\n",
       "Korean             0.684932\n",
       "Spanish            0.632244\n",
       "Vietnamese         0.368809\n",
       "Name: proportion, dtype: float64"
      ]
     },
     "metadata": {},
     "output_type": "display_data"
    }
   ],
   "source": [
    "# ORDER PERCENTAGE BY TYPE OF CUSINE\n",
    "display(df_initial['cuisine_type'].value_counts(normalize=True)*100)"
   ]
  },
  {
   "cell_type": "markdown",
   "metadata": {},
   "source": [
    "* Number of restaurants in each Cuisine type"
   ]
  },
  {
   "cell_type": "code",
   "execution_count": 35,
   "metadata": {},
   "outputs": [
    {
     "name": "stdout",
     "output_type": "stream",
     "text": [
      "----------Restaurants number calculation ----------\n",
      "\n"
     ]
    },
    {
     "data": {
      "text/html": [
       "<div>\n",
       "<style scoped>\n",
       "    .dataframe tbody tr th:only-of-type {\n",
       "        vertical-align: middle;\n",
       "    }\n",
       "\n",
       "    .dataframe tbody tr th {\n",
       "        vertical-align: top;\n",
       "    }\n",
       "\n",
       "    .dataframe thead th {\n",
       "        text-align: right;\n",
       "    }\n",
       "</style>\n",
       "<table border=\"1\" class=\"dataframe\">\n",
       "  <thead>\n",
       "    <tr style=\"text-align: right;\">\n",
       "      <th></th>\n",
       "      <th>Cuisine type</th>\n",
       "      <th>Number of restaurants</th>\n",
       "    </tr>\n",
       "  </thead>\n",
       "  <tbody>\n",
       "    <tr>\n",
       "      <th>0</th>\n",
       "      <td>American</td>\n",
       "      <td>41</td>\n",
       "    </tr>\n",
       "    <tr>\n",
       "      <th>1</th>\n",
       "      <td>Italian</td>\n",
       "      <td>31</td>\n",
       "    </tr>\n",
       "    <tr>\n",
       "      <th>2</th>\n",
       "      <td>Japanese</td>\n",
       "      <td>29</td>\n",
       "    </tr>\n",
       "    <tr>\n",
       "      <th>3</th>\n",
       "      <td>Chinese</td>\n",
       "      <td>16</td>\n",
       "    </tr>\n",
       "    <tr>\n",
       "      <th>4</th>\n",
       "      <td>Indian</td>\n",
       "      <td>14</td>\n",
       "    </tr>\n",
       "    <tr>\n",
       "      <th>5</th>\n",
       "      <td>Mexican</td>\n",
       "      <td>11</td>\n",
       "    </tr>\n",
       "    <tr>\n",
       "      <th>6</th>\n",
       "      <td>Thai</td>\n",
       "      <td>9</td>\n",
       "    </tr>\n",
       "    <tr>\n",
       "      <th>7</th>\n",
       "      <td>Middle Eastern</td>\n",
       "      <td>7</td>\n",
       "    </tr>\n",
       "    <tr>\n",
       "      <th>8</th>\n",
       "      <td>Korean</td>\n",
       "      <td>5</td>\n",
       "    </tr>\n",
       "    <tr>\n",
       "      <th>9</th>\n",
       "      <td>Mediterranean</td>\n",
       "      <td>5</td>\n",
       "    </tr>\n",
       "    <tr>\n",
       "      <th>10</th>\n",
       "      <td>French</td>\n",
       "      <td>3</td>\n",
       "    </tr>\n",
       "    <tr>\n",
       "      <th>11</th>\n",
       "      <td>Spanish</td>\n",
       "      <td>3</td>\n",
       "    </tr>\n",
       "    <tr>\n",
       "      <th>12</th>\n",
       "      <td>Vietnamese</td>\n",
       "      <td>3</td>\n",
       "    </tr>\n",
       "    <tr>\n",
       "      <th>13</th>\n",
       "      <td>Southern</td>\n",
       "      <td>2</td>\n",
       "    </tr>\n",
       "  </tbody>\n",
       "</table>\n",
       "</div>"
      ],
      "text/plain": [
       "      Cuisine type  Number of restaurants\n",
       "0         American                     41\n",
       "1          Italian                     31\n",
       "2         Japanese                     29\n",
       "3          Chinese                     16\n",
       "4           Indian                     14\n",
       "5          Mexican                     11\n",
       "6             Thai                      9\n",
       "7   Middle Eastern                      7\n",
       "8           Korean                      5\n",
       "9    Mediterranean                      5\n",
       "10          French                      3\n",
       "11         Spanish                      3\n",
       "12      Vietnamese                      3\n",
       "13        Southern                      2"
      ]
     },
     "metadata": {},
     "output_type": "display_data"
    }
   ],
   "source": [
    "temp_no_of_rest_per_count = df_initial.groupby('cuisine_type')['restaurant_name'].nunique().reset_index(name='Number of restaurants')\n",
    "print('-' * 10 + \"Restaurants number calculation \"+ '-' * 10)\n",
    "print()\n",
    "display(temp_no_of_rest_per_count.sort_values(by='Number of restaurants', ascending=False).rename(index=str,\n",
    "                                        columns={\"order_id\": \"Number of orders\", \"cuisine_type\": \"Cuisine type\"}).reset_index(drop=True))\n"
   ]
  },
  {
   "cell_type": "markdown",
   "metadata": {},
   "source": [
    "#### ** Exploring the data attribute : Customers and products **"
   ]
  },
  {
   "cell_type": "markdown",
   "metadata": {},
   "source": [
    "The dataframe contains 1898 entries. What are the number of users and orders in these entries ?"
   ]
  },
  {
   "cell_type": "code",
   "execution_count": 38,
   "metadata": {},
   "outputs": [
    {
     "data": {
      "text/html": [
       "<div>\n",
       "<style scoped>\n",
       "    .dataframe tbody tr th:only-of-type {\n",
       "        vertical-align: middle;\n",
       "    }\n",
       "\n",
       "    .dataframe tbody tr th {\n",
       "        vertical-align: top;\n",
       "    }\n",
       "\n",
       "    .dataframe thead th {\n",
       "        text-align: right;\n",
       "    }\n",
       "</style>\n",
       "<table border=\"1\" class=\"dataframe\">\n",
       "  <thead>\n",
       "    <tr style=\"text-align: right;\">\n",
       "      <th></th>\n",
       "      <th>restaurants</th>\n",
       "      <th>orders</th>\n",
       "      <th>customers</th>\n",
       "    </tr>\n",
       "  </thead>\n",
       "  <tbody>\n",
       "    <tr>\n",
       "      <th>quantity</th>\n",
       "      <td>178</td>\n",
       "      <td>1898</td>\n",
       "      <td>1200</td>\n",
       "    </tr>\n",
       "  </tbody>\n",
       "</table>\n",
       "</div>"
      ],
      "text/plain": [
       "          restaurants  orders  customers\n",
       "quantity          178    1898       1200"
      ]
     },
     "execution_count": 38,
     "metadata": {},
     "output_type": "execute_result"
    }
   ],
   "source": [
    "pd.DataFrame([{'restaurants': len(df_initial['restaurant_name'].value_counts()),    \n",
    "               'orders': len(df_initial['order_id'].value_counts()),\n",
    "               'customers': len(df_initial['customer_id'].value_counts()),  \n",
    "              }], columns = ['restaurants', 'orders', 'customers'], \n",
    "              index = ['quantity'])"
   ]
  },
  {
   "cell_type": "markdown",
   "metadata": {},
   "source": [
    "As you can see that this dataset contain the recods of 1200 users who order something in 178 restaurants.\n",
    "There are 1898 orders which are carried out."
   ]
  },
  {
   "cell_type": "markdown",
   "metadata": {},
   "source": [
    "Now we need to explore the number of orders in every restaurant"
   ]
  },
  {
   "cell_type": "code",
   "execution_count": 43,
   "metadata": {},
   "outputs": [
    {
     "name": "stdout",
     "output_type": "stream",
     "text": [
      "---------- Number of orders in every restaurant ----------\n",
      "\n"
     ]
    },
    {
     "data": {
      "text/html": [
       "<div>\n",
       "<style scoped>\n",
       "    .dataframe tbody tr th:only-of-type {\n",
       "        vertical-align: middle;\n",
       "    }\n",
       "\n",
       "    .dataframe tbody tr th {\n",
       "        vertical-align: top;\n",
       "    }\n",
       "\n",
       "    .dataframe thead th {\n",
       "        text-align: right;\n",
       "    }\n",
       "</style>\n",
       "<table border=\"1\" class=\"dataframe\">\n",
       "  <thead>\n",
       "    <tr style=\"text-align: right;\">\n",
       "      <th></th>\n",
       "      <th>Restaurant name</th>\n",
       "      <th>Number of orders</th>\n",
       "    </tr>\n",
       "  </thead>\n",
       "  <tbody>\n",
       "    <tr>\n",
       "      <th>0</th>\n",
       "      <td>Shake Shack</td>\n",
       "      <td>219</td>\n",
       "    </tr>\n",
       "    <tr>\n",
       "      <th>1</th>\n",
       "      <td>The Meatball Shop</td>\n",
       "      <td>132</td>\n",
       "    </tr>\n",
       "    <tr>\n",
       "      <th>2</th>\n",
       "      <td>Blue Ribbon Sushi</td>\n",
       "      <td>119</td>\n",
       "    </tr>\n",
       "    <tr>\n",
       "      <th>3</th>\n",
       "      <td>Blue Ribbon Fried Chicken</td>\n",
       "      <td>96</td>\n",
       "    </tr>\n",
       "    <tr>\n",
       "      <th>4</th>\n",
       "      <td>Parm</td>\n",
       "      <td>68</td>\n",
       "    </tr>\n",
       "    <tr>\n",
       "      <th>...</th>\n",
       "      <td>...</td>\n",
       "      <td>...</td>\n",
       "    </tr>\n",
       "    <tr>\n",
       "      <th>173</th>\n",
       "      <td>Klong</td>\n",
       "      <td>1</td>\n",
       "    </tr>\n",
       "    <tr>\n",
       "      <th>174</th>\n",
       "      <td>Kambi Ramen House</td>\n",
       "      <td>1</td>\n",
       "    </tr>\n",
       "    <tr>\n",
       "      <th>175</th>\n",
       "      <td>Il Bambino</td>\n",
       "      <td>1</td>\n",
       "    </tr>\n",
       "    <tr>\n",
       "      <th>176</th>\n",
       "      <td>Hunan Manor</td>\n",
       "      <td>1</td>\n",
       "    </tr>\n",
       "    <tr>\n",
       "      <th>177</th>\n",
       "      <td>Lamarca Pasta</td>\n",
       "      <td>1</td>\n",
       "    </tr>\n",
       "  </tbody>\n",
       "</table>\n",
       "<p>178 rows × 2 columns</p>\n",
       "</div>"
      ],
      "text/plain": [
       "               Restaurant name  Number of orders\n",
       "0                  Shake Shack               219\n",
       "1            The Meatball Shop               132\n",
       "2            Blue Ribbon Sushi               119\n",
       "3    Blue Ribbon Fried Chicken                96\n",
       "4                         Parm                68\n",
       "..                         ...               ...\n",
       "173                      Klong                 1\n",
       "174          Kambi Ramen House                 1\n",
       "175                 Il Bambino                 1\n",
       "176                Hunan Manor                 1\n",
       "177              Lamarca Pasta                 1\n",
       "\n",
       "[178 rows x 2 columns]"
      ]
     },
     "metadata": {},
     "output_type": "display_data"
    }
   ],
   "source": [
    "# Group the data by 'restaurant_name' and count the number of orders for each restaurant\n",
    "orders_per_restaurant = df_initial.groupby('restaurant_name')['order_id'].count().reset_index()\n",
    "\n",
    "# Sort the result by the number of orders in descending order\n",
    "orders_per_restaurant = orders_per_restaurant.sort_values(by='order_id', ascending=False).reset_index(drop=True).rename(index=str,\n",
    "                                        columns={\"order_id\": \"Number of orders\", \"restaurant_name\": \"Restaurant name\"})\n",
    "\n",
    "# Display the result\n",
    "print('-' * 10 + \" Number of orders in every restaurant \" + '-' * 10)\n",
    "print()\n",
    "display(orders_per_restaurant)"
   ]
  },
  {
   "cell_type": "code",
   "execution_count": 23,
   "metadata": {},
   "outputs": [
    {
     "name": "stderr",
     "output_type": "stream",
     "text": [
      "C:\\Users\\WWW\\AppData\\Local\\Temp\\ipykernel_26196\\1145709642.py:3: FutureWarning: \n",
      "\n",
      "Passing `palette` without assigning `hue` is deprecated and will be removed in v0.14.0. Assign the `y` variable to `hue` and set `legend=False` for the same effect.\n",
      "\n",
      "  sns.barplot(data=restaurant.head(10), x=\"order_id\", y=\"restaurant_name\", palette=palette)\n"
     ]
    },
    {
     "data": {
      "text/plain": [
       "<Axes: xlabel='order_id', ylabel='restaurant_name'>"
      ]
     },
     "execution_count": 23,
     "metadata": {},
     "output_type": "execute_result"
    },
    {
     "data": {
      "image/png": "[encoded data removed]",
      "text/plain": [
       "<Figure size 640x480 with 1 Axes>"
      ]
     },
     "metadata": {},
     "output_type": "display_data"
    }
   ],
   "source": [
    "palette = sns.color_palette(\"husl\", 10)\n",
    "restaurant = df_initial[['restaurant_name','order_id']].groupby('restaurant_name').agg('count').sort_values('order_id', ascending=False).reset_index()\n",
    "sns.barplot(data=restaurant.head(10), x=\"order_id\", y=\"restaurant_name\", palette=palette)"
   ]
  },
  {
   "cell_type": "markdown",
   "metadata": {},
   "source": [
    "#### ** Analysis of orders that were not rated **"
   ]
  },
  {
   "cell_type": "markdown",
   "metadata": {},
   "source": [
    "We need to count the number of orders that were not rated"
   ]
  },
  {
   "cell_type": "code",
   "execution_count": 12,
   "metadata": {},
   "outputs": [
    {
     "name": "stdout",
     "output_type": "stream",
     "text": [
      "Percentage of reviews that were not left: 38.78%\n"
     ]
    }
   ],
   "source": [
    "no_rating_count = df_initial[df_initial['rating'] == 'Not given']['rating'].count()\n",
    "total_count = len(df_initial)\n",
    "percentage_no_rating = (no_rating_count / total_count) * 100\n",
    "print(\"Percentage of reviews that were not left: {:.2f}%\".format(percentage_no_rating))"
   ]
  },
  {
   "cell_type": "code",
   "execution_count": 11,
   "metadata": {},
   "outputs": [
    {
     "data": {
      "text/plain": [
       "rating\n",
       "Not given    38.777661\n",
       "5            30.979979\n",
       "4            20.337197\n",
       "3             9.905163\n",
       "Name: proportion, dtype: float64"
      ]
     },
     "execution_count": 11,
     "metadata": {},
     "output_type": "execute_result"
    }
   ],
   "source": [
    "#CHECKING RATING\n",
    "df_initial.rating.value_counts(normalize=True)* 100"
   ]
  },
  {
   "cell_type": "markdown",
   "metadata": {},
   "source": [
    "Now let's see which restaurants have the highest ratings"
   ]
  },
  {
   "cell_type": "code",
   "execution_count": 13,
   "metadata": {},
   "outputs": [
    {
     "name": "stdout",
     "output_type": "stream",
     "text": [
      "---------- Средняя оценка и количество заказов для каждого ресторана ----------\n",
      "\n"
     ]
    },
    {
     "data": {
      "text/html": [
       "<div>\n",
       "<style scoped>\n",
       "    .dataframe tbody tr th:only-of-type {\n",
       "        vertical-align: middle;\n",
       "    }\n",
       "\n",
       "    .dataframe tbody tr th {\n",
       "        vertical-align: top;\n",
       "    }\n",
       "\n",
       "    .dataframe thead th {\n",
       "        text-align: right;\n",
       "    }\n",
       "</style>\n",
       "<table border=\"1\" class=\"dataframe\">\n",
       "  <thead>\n",
       "    <tr style=\"text-align: right;\">\n",
       "      <th></th>\n",
       "      <th>restaurant_name</th>\n",
       "      <th>rating</th>\n",
       "      <th>order_id</th>\n",
       "    </tr>\n",
       "  </thead>\n",
       "  <tbody>\n",
       "    <tr>\n",
       "      <th>0</th>\n",
       "      <td>'wichcraft</td>\n",
       "      <td>5.0</td>\n",
       "      <td>1</td>\n",
       "    </tr>\n",
       "    <tr>\n",
       "      <th>1</th>\n",
       "      <td>Ravagh Persian Grill</td>\n",
       "      <td>5.0</td>\n",
       "      <td>1</td>\n",
       "    </tr>\n",
       "    <tr>\n",
       "      <th>2</th>\n",
       "      <td>Chola Eclectic Indian Cuisine</td>\n",
       "      <td>5.0</td>\n",
       "      <td>1</td>\n",
       "    </tr>\n",
       "    <tr>\n",
       "      <th>3</th>\n",
       "      <td>Chote Nawab</td>\n",
       "      <td>5.0</td>\n",
       "      <td>1</td>\n",
       "    </tr>\n",
       "    <tr>\n",
       "      <th>4</th>\n",
       "      <td>Junoon</td>\n",
       "      <td>5.0</td>\n",
       "      <td>3</td>\n",
       "    </tr>\n",
       "    <tr>\n",
       "      <th>...</th>\n",
       "      <td>...</td>\n",
       "      <td>...</td>\n",
       "      <td>...</td>\n",
       "    </tr>\n",
       "    <tr>\n",
       "      <th>151</th>\n",
       "      <td>Woorijip</td>\n",
       "      <td>3.0</td>\n",
       "      <td>1</td>\n",
       "    </tr>\n",
       "    <tr>\n",
       "      <th>152</th>\n",
       "      <td>Byblos Restaurant</td>\n",
       "      <td>3.0</td>\n",
       "      <td>1</td>\n",
       "    </tr>\n",
       "    <tr>\n",
       "      <th>153</th>\n",
       "      <td>Pepe Giallo</td>\n",
       "      <td>3.0</td>\n",
       "      <td>1</td>\n",
       "    </tr>\n",
       "    <tr>\n",
       "      <th>154</th>\n",
       "      <td>Sushi Choshi</td>\n",
       "      <td>3.0</td>\n",
       "      <td>1</td>\n",
       "    </tr>\n",
       "    <tr>\n",
       "      <th>155</th>\n",
       "      <td>Sarabeth's West</td>\n",
       "      <td>3.0</td>\n",
       "      <td>1</td>\n",
       "    </tr>\n",
       "  </tbody>\n",
       "</table>\n",
       "<p>156 rows × 3 columns</p>\n",
       "</div>"
      ],
      "text/plain": [
       "                   restaurant_name  rating  order_id\n",
       "0                       'wichcraft     5.0         1\n",
       "1             Ravagh Persian Grill     5.0         1\n",
       "2    Chola Eclectic Indian Cuisine     5.0         1\n",
       "3                      Chote Nawab     5.0         1\n",
       "4                           Junoon     5.0         3\n",
       "..                             ...     ...       ...\n",
       "151                       Woorijip     3.0         1\n",
       "152              Byblos Restaurant     3.0         1\n",
       "153                    Pepe Giallo     3.0         1\n",
       "154                   Sushi Choshi     3.0         1\n",
       "155                Sarabeth's West     3.0         1\n",
       "\n",
       "[156 rows x 3 columns]"
      ]
     },
     "metadata": {},
     "output_type": "display_data"
    }
   ],
   "source": [
    "df_cleaned = df_initial.copy()\n",
    "df_cleaned = df_cleaned[df_cleaned['rating'] != 'Not given']\n",
    "df_cleaned['rating'] = pd.to_numeric(df_cleaned['rating'], errors='coerce')\n",
    "orders_per_restaurant = df_cleaned.groupby('restaurant_name')['order_id'].count().reset_index()\n",
    "average_rating_per_restaurant = df_cleaned.groupby('restaurant_name')['rating'].mean().reset_index()\n",
    "merged_data = pd.merge(average_rating_per_restaurant, orders_per_restaurant, on='restaurant_name', how='left')\n",
    "merged_data = merged_data.sort_values(by='rating', ascending=False).reset_index(drop=True)\n",
    "print('-' * 10 + \" Средняя оценка и количество заказов для каждого ресторана \" + '-' * 10)\n",
    "print()\n",
    "display(merged_data)\n"
   ]
  },
  {
   "cell_type": "markdown",
   "metadata": {},
   "source": [
    "#### ** Exploring the data attribute : price per order **\n",
    "\n",
    "* Let's look at what receipt people most often use to order food in restaurants"
   ]
  },
  {
   "cell_type": "code",
   "execution_count": 28,
   "metadata": {},
   "outputs": [
    {
     "name": "stdout",
     "output_type": "stream",
     "text": [
      "----------Restaurants number calculation ----------\n",
      "\n"
     ]
    },
    {
     "data": {
      "text/html": [
       "<div>\n",
       "<style scoped>\n",
       "    .dataframe tbody tr th:only-of-type {\n",
       "        vertical-align: middle;\n",
       "    }\n",
       "\n",
       "    .dataframe tbody tr th {\n",
       "        vertical-align: top;\n",
       "    }\n",
       "\n",
       "    .dataframe thead th {\n",
       "        text-align: right;\n",
       "    }\n",
       "</style>\n",
       "<table border=\"1\" class=\"dataframe\">\n",
       "  <thead>\n",
       "    <tr style=\"text-align: right;\">\n",
       "      <th></th>\n",
       "      <th>price</th>\n",
       "      <th>Number of orders</th>\n",
       "    </tr>\n",
       "  </thead>\n",
       "  <tbody>\n",
       "    <tr>\n",
       "      <th>0</th>\n",
       "      <td>12.18</td>\n",
       "      <td>86</td>\n",
       "    </tr>\n",
       "    <tr>\n",
       "      <th>1</th>\n",
       "      <td>12.13</td>\n",
       "      <td>82</td>\n",
       "    </tr>\n",
       "    <tr>\n",
       "      <th>2</th>\n",
       "      <td>12.23</td>\n",
       "      <td>47</td>\n",
       "    </tr>\n",
       "    <tr>\n",
       "      <th>3</th>\n",
       "      <td>24.20</td>\n",
       "      <td>42</td>\n",
       "    </tr>\n",
       "    <tr>\n",
       "      <th>4</th>\n",
       "      <td>29.10</td>\n",
       "      <td>37</td>\n",
       "    </tr>\n",
       "    <tr>\n",
       "      <th>...</th>\n",
       "      <td>...</td>\n",
       "      <td>...</td>\n",
       "    </tr>\n",
       "    <tr>\n",
       "      <th>307</th>\n",
       "      <td>13.77</td>\n",
       "      <td>1</td>\n",
       "    </tr>\n",
       "    <tr>\n",
       "      <th>308</th>\n",
       "      <td>4.66</td>\n",
       "      <td>1</td>\n",
       "    </tr>\n",
       "    <tr>\n",
       "      <th>309</th>\n",
       "      <td>14.26</td>\n",
       "      <td>1</td>\n",
       "    </tr>\n",
       "    <tr>\n",
       "      <th>310</th>\n",
       "      <td>14.45</td>\n",
       "      <td>1</td>\n",
       "    </tr>\n",
       "    <tr>\n",
       "      <th>311</th>\n",
       "      <td>35.41</td>\n",
       "      <td>1</td>\n",
       "    </tr>\n",
       "  </tbody>\n",
       "</table>\n",
       "<p>312 rows × 2 columns</p>\n",
       "</div>"
      ],
      "text/plain": [
       "     price  Number of orders\n",
       "0    12.18                86\n",
       "1    12.13                82\n",
       "2    12.23                47\n",
       "3    24.20                42\n",
       "4    29.10                37\n",
       "..     ...               ...\n",
       "307  13.77                 1\n",
       "308   4.66                 1\n",
       "309  14.26                 1\n",
       "310  14.45                 1\n",
       "311  35.41                 1\n",
       "\n",
       "[312 rows x 2 columns]"
      ]
     },
     "metadata": {},
     "output_type": "display_data"
    }
   ],
   "source": [
    "temp_no_of_rest_per_count = df_initial.groupby('cost_of_the_order')['order_id'].nunique().reset_index(name='Number of orders')\n",
    "print('-' * 10 + \"Restaurants number calculation \"+ '-' * 10)\n",
    "print()\n",
    "display(temp_no_of_rest_per_count.sort_values(by='Number of orders', ascending=False).rename(index=str,\n",
    "                                        columns={\"order_id\": \"Number of orders\", \"cost_of_the_order\": \"price\"}).reset_index(drop=True))\n"
   ]
  },
  {
   "cell_type": "code",
   "execution_count": 27,
   "metadata": {},
   "outputs": [
    {
     "data": {
      "image/png": "[encoded data removed]",
      "text/plain": [
       "<Figure size 640x480 with 1 Axes>"
      ]
     },
     "metadata": {},
     "output_type": "display_data"
    }
   ],
   "source": [
    "customer_orders = df_initial.groupby('customer_id')\n",
    "\n",
    "customer_stats = customer_orders.agg({\n",
    "    'cost_of_the_order': 'mean',  \n",
    "    'order_id': 'count'  \n",
    "})\n",
    "\n",
    "customer_stats.rename(columns={'cost_of_the_order': 'average_order_value', 'order_id': 'order_frequency'}, inplace=True)\n",
    "plt.hist(customer_stats['average_order_value'], bins=20, color='skyblue', edgecolor='black')\n",
    "plt.xlabel('Average check')\n",
    "plt.ylabel('Frequency')\n",
    "plt.title('Average bill distribution')\n",
    "plt.show()"
   ]
  },
  {
   "cell_type": "code",
   "execution_count": 7,
   "metadata": {},
   "outputs": [
    {
     "data": {
      "text/html": [
       "<div>\n",
       "<style scoped>\n",
       "    .dataframe tbody tr th:only-of-type {\n",
       "        vertical-align: middle;\n",
       "    }\n",
       "\n",
       "    .dataframe tbody tr th {\n",
       "        vertical-align: top;\n",
       "    }\n",
       "\n",
       "    .dataframe thead th {\n",
       "        text-align: right;\n",
       "    }\n",
       "</style>\n",
       "<table border=\"1\" class=\"dataframe\">\n",
       "  <thead>\n",
       "    <tr style=\"text-align: right;\">\n",
       "      <th></th>\n",
       "      <th>Имя</th>\n",
       "      <th>Фамилия</th>\n",
       "      <th>Email</th>\n",
       "      <th>Телефон</th>\n",
       "    </tr>\n",
       "  </thead>\n",
       "  <tbody>\n",
       "    <tr>\n",
       "      <th>0</th>\n",
       "      <td>Гедеон</td>\n",
       "      <td>Бобылев</td>\n",
       "      <td>kazimir_1993@gmail.com</td>\n",
       "      <td>8 140 675 37 19</td>\n",
       "    </tr>\n",
       "    <tr>\n",
       "      <th>1</th>\n",
       "      <td>Харлампий</td>\n",
       "      <td>Кабанова</td>\n",
       "      <td>naumsidorov@gmail.com</td>\n",
       "      <td>+7 021 627 57 46</td>\n",
       "    </tr>\n",
       "    <tr>\n",
       "      <th>2</th>\n",
       "      <td>Иосиф</td>\n",
       "      <td>Смирнов</td>\n",
       "      <td>platon_61@gmail.com</td>\n",
       "      <td>+7 172 299 44 39</td>\n",
       "    </tr>\n",
       "    <tr>\n",
       "      <th>3</th>\n",
       "      <td>Варфоломей</td>\n",
       "      <td>Лукина</td>\n",
       "      <td>serafim_28@gmail.com</td>\n",
       "      <td>+7 170 687 6301</td>\n",
       "    </tr>\n",
       "    <tr>\n",
       "      <th>4</th>\n",
       "      <td>Август</td>\n",
       "      <td>Быков</td>\n",
       "      <td>radislav1986@gmail.com</td>\n",
       "      <td>+7 (271) 574-0015</td>\n",
       "    </tr>\n",
       "  </tbody>\n",
       "</table>\n",
       "</div>"
      ],
      "text/plain": [
       "          Имя   Фамилия                   Email            Телефон\n",
       "0      Гедеон   Бобылев  kazimir_1993@gmail.com    8 140 675 37 19\n",
       "1   Харлампий  Кабанова   naumsidorov@gmail.com   +7 021 627 57 46\n",
       "2       Иосиф   Смирнов     platon_61@gmail.com   +7 172 299 44 39\n",
       "3  Варфоломей    Лукина    serafim_28@gmail.com    +7 170 687 6301\n",
       "4      Август     Быков  radislav1986@gmail.com  +7 (271) 574-0015"
      ]
     },
     "metadata": {},
     "output_type": "display_data"
    }
   ],
   "source": [
    "df_gener = pd.read_csv(\"dataset.csv\")\n",
    "display(df_gener.head())"
   ]
  }
 ],
 "metadata": {
  "kernelspec": {
   "display_name": "Python 3",
   "language": "python",
   "name": "python3"
  },
  "language_info": {
   "codemirror_mode": {
    "name": "ipython",
    "version": 3
   },
   "file_extension": ".py",
   "mimetype": "text/x-python",
   "name": "python",
   "nbconvert_exporter": "python",
   "pygments_lexer": "ipython3",
   "version": "3.11.0"
  }
 },
 "nbformat": 4,
 "nbformat_minor": 2
}
